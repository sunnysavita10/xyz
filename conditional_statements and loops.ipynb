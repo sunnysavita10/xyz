{
 "cells": [
  {
   "cell_type": "code",
   "execution_count": 1,
   "id": "6ccd53a8-4c30-4d2f-af85-16500debd90d",
   "metadata": {},
   "outputs": [
    {
     "name": "stdout",
     "output_type": "stream",
     "text": [
      "hello\n"
     ]
    }
   ],
   "source": [
    "print(\"hello\")"
   ]
  },
  {
   "cell_type": "code",
   "execution_count": 2,
   "id": "418fac69-1e3b-4c5a-9fea-35685f95ab10",
   "metadata": {},
   "outputs": [],
   "source": [
    "name=\"sunny\""
   ]
  },
  {
   "cell_type": "code",
   "execution_count": 3,
   "id": "d4c01bb4-c277-4438-917c-211f36374fac",
   "metadata": {},
   "outputs": [
    {
     "name": "stdout",
     "output_type": "stream",
     "text": [
      "hello sunny\n"
     ]
    }
   ],
   "source": [
    "print(\"hello\",name)"
   ]
  },
  {
   "cell_type": "markdown",
   "id": "ccc3dfcd-bb27-4028-bc82-6c495d051f70",
   "metadata": {},
   "source": [
    "# format specifier"
   ]
  },
  {
   "cell_type": "code",
   "execution_count": 24,
   "id": "ad0455b8-0bf0-45e3-a1c4-c7d3eea9fe7d",
   "metadata": {},
   "outputs": [
    {
     "data": {
      "text/plain": [
       "'sunny'"
      ]
     },
     "execution_count": 24,
     "metadata": {},
     "output_type": "execute_result"
    }
   ],
   "source": [
    "name"
   ]
  },
  {
   "cell_type": "code",
   "execution_count": 26,
   "id": "48cc29e3-ea6b-44f4-a6e4-40788c72c927",
   "metadata": {},
   "outputs": [],
   "source": [
    "last_name=\"savita\""
   ]
  },
  {
   "cell_type": "code",
   "execution_count": 28,
   "id": "c2bcfbdd-ad9c-407d-b449-919fdfd11055",
   "metadata": {},
   "outputs": [
    {
     "name": "stdout",
     "output_type": "stream",
     "text": [
      "hello sunny  how are you savita\n"
     ]
    }
   ],
   "source": [
    "print(\"hello %s  how are you %s\" %(name,last_name))"
   ]
  },
  {
   "cell_type": "code",
   "execution_count": 8,
   "id": "7580e10f-ca9e-46d7-88d7-66ea1811a749",
   "metadata": {},
   "outputs": [],
   "source": [
    "a=10"
   ]
  },
  {
   "cell_type": "code",
   "execution_count": 11,
   "id": "c24cbff4-6033-40d4-b6fe-fb4037cb33ad",
   "metadata": {},
   "outputs": [
    {
     "name": "stdout",
     "output_type": "stream",
     "text": [
      "value of a is 10\n"
     ]
    }
   ],
   "source": [
    "print(\"value of a is %d\" %a)"
   ]
  },
  {
   "cell_type": "code",
   "execution_count": 12,
   "id": "6a4e3e83-e228-468a-9321-3c8312873e9b",
   "metadata": {},
   "outputs": [],
   "source": [
    "a=10\n",
    "name=\"sunny\"\n",
    "b=20.9"
   ]
  },
  {
   "cell_type": "markdown",
   "id": "35432bf5-c2aa-4f69-973d-43fdba6403c0",
   "metadata": {},
   "source": [
    "# Simple pythonic way"
   ]
  },
  {
   "cell_type": "code",
   "execution_count": 13,
   "id": "8ca8c134-e959-4245-88af-2c4d314cd16a",
   "metadata": {},
   "outputs": [
    {
     "name": "stdout",
     "output_type": "stream",
     "text": [
      "value of a is 10 name is sunny value of b is 20.9\n"
     ]
    }
   ],
   "source": [
    "print(\"value of a is\",a,\"name is\",name,\"value of b is\",b)"
   ]
  },
  {
   "cell_type": "markdown",
   "id": "26a5a9b0-ffec-459c-ae22-3c0b51905b05",
   "metadata": {},
   "source": [
    "# with format specifier"
   ]
  },
  {
   "cell_type": "code",
   "execution_count": 29,
   "id": "de645d4d-d19b-4128-af44-0662443f94b0",
   "metadata": {},
   "outputs": [
    {
     "name": "stdout",
     "output_type": "stream",
     "text": [
      "value of a is 10 vlaue of b is sunny value of name is 20.900000\n"
     ]
    }
   ],
   "source": [
    "#number of format specifier and variable must be a same\n",
    "print(\"value of a is %d vlaue of b is %s value of name is %f\"%(a,name,b))"
   ]
  },
  {
   "cell_type": "markdown",
   "id": "e61a65c9-6256-409e-9148-b00ba7eab0b0",
   "metadata": {},
   "source": [
    "# with format function"
   ]
  },
  {
   "cell_type": "code",
   "execution_count": 17,
   "id": "c3d9ed1d-e01e-42ef-9df7-faaeb2826729",
   "metadata": {},
   "outputs": [],
   "source": [
    "var=10\n",
    "name=\"sunny\""
   ]
  },
  {
   "cell_type": "code",
   "execution_count": 30,
   "id": "6d864704-c468-404b-ab0b-351541fba459",
   "metadata": {},
   "outputs": [],
   "source": [
    "a=100"
   ]
  },
  {
   "cell_type": "code",
   "execution_count": 32,
   "id": "976b618f-3998-45a0-a71a-3d6e3d06bafd",
   "metadata": {},
   "outputs": [
    {
     "name": "stdout",
     "output_type": "stream",
     "text": [
      "100\n"
     ]
    }
   ],
   "source": [
    "print(a)"
   ]
  },
  {
   "cell_type": "code",
   "execution_count": 35,
   "id": "3874433d-2659-4d11-ab10-f87b4d9ccc9d",
   "metadata": {},
   "outputs": [
    {
     "name": "stdout",
     "output_type": "stream",
     "text": [
      "value of a is 100\n"
     ]
    }
   ],
   "source": [
    "print(\"value of a is\",a)"
   ]
  },
  {
   "cell_type": "code",
   "execution_count": 34,
   "id": "1450f6ca-dc28-4386-957d-6733af958ae3",
   "metadata": {},
   "outputs": [
    {
     "name": "stdout",
     "output_type": "stream",
     "text": [
      "the value of a is 100\n"
     ]
    }
   ],
   "source": [
    "print(\"the value of a is %d\"%a)"
   ]
  },
  {
   "cell_type": "code",
   "execution_count": 36,
   "id": "20a4e022-841e-40dd-a4a6-d2fc43785a01",
   "metadata": {},
   "outputs": [
    {
     "name": "stdout",
     "output_type": "stream",
     "text": [
      "value of is 100\n"
     ]
    }
   ],
   "source": [
    "print(\"value of is {}\".format(a))"
   ]
  },
  {
   "cell_type": "code",
   "execution_count": 37,
   "id": "c504c32b-da21-4ffe-bf31-aa5699312a71",
   "metadata": {},
   "outputs": [],
   "source": [
    "b=200"
   ]
  },
  {
   "cell_type": "code",
   "execution_count": 38,
   "id": "995fb4d0-6089-4444-a6cc-c885de2ee324",
   "metadata": {},
   "outputs": [
    {
     "name": "stdout",
     "output_type": "stream",
     "text": [
      "value of a is 100 value of b is 200\n"
     ]
    }
   ],
   "source": [
    "print(\"value of a is {} value of b is {}\".format(a,b))"
   ]
  },
  {
   "cell_type": "code",
   "execution_count": 39,
   "id": "75bf30e3-6305-4454-bc9d-9d6f3b43ae61",
   "metadata": {},
   "outputs": [],
   "source": [
    "name=\"rajat\"\n",
    "age=27"
   ]
  },
  {
   "cell_type": "code",
   "execution_count": 40,
   "id": "912e18f8-01f4-4d35-9294-7330e381de46",
   "metadata": {},
   "outputs": [
    {
     "name": "stdout",
     "output_type": "stream",
     "text": [
      "name is rajat age is 27\n"
     ]
    }
   ],
   "source": [
    "print(\"name is {} age is {}\".format(name,age))"
   ]
  },
  {
   "cell_type": "code",
   "execution_count": 41,
   "id": "3ae2cdd2-3eab-47c6-89b9-e6e786c951f3",
   "metadata": {},
   "outputs": [
    {
     "name": "stdout",
     "output_type": "stream",
     "text": [
      "name is 27 age is rajat\n"
     ]
    }
   ],
   "source": [
    "print(\"name is {} age is {}\".format(age,name))"
   ]
  },
  {
   "cell_type": "code",
   "execution_count": 42,
   "id": "f9c6aa1d-3b97-46b5-b829-c476881e5a41",
   "metadata": {},
   "outputs": [
    {
     "ename": "KeyError",
     "evalue": "'name'",
     "output_type": "error",
     "traceback": [
      "\u001b[0;31m---------------------------------------------------------------------------\u001b[0m",
      "\u001b[0;31mKeyError\u001b[0m                                  Traceback (most recent call last)",
      "Cell \u001b[0;32mIn [42], line 1\u001b[0m\n\u001b[0;32m----> 1\u001b[0m \u001b[38;5;28mprint\u001b[39m(\u001b[38;5;124;43m\"\u001b[39;49m\u001b[38;5;124;43mname is \u001b[39;49m\u001b[38;5;132;43;01m{name}\u001b[39;49;00m\u001b[38;5;124;43m age is \u001b[39;49m\u001b[38;5;132;43;01m{age}\u001b[39;49;00m\u001b[38;5;124;43m\"\u001b[39;49m\u001b[38;5;241;43m.\u001b[39;49m\u001b[43mformat\u001b[49m\u001b[43m(\u001b[49m\u001b[43mage\u001b[49m\u001b[43m,\u001b[49m\u001b[43mname\u001b[49m\u001b[43m)\u001b[49m)\n",
      "\u001b[0;31mKeyError\u001b[0m: 'name'"
     ]
    }
   ],
   "source": [
    "print(\"name is {name} age is {age}\".format(age,name))"
   ]
  },
  {
   "cell_type": "code",
   "execution_count": 44,
   "id": "b8f21ae7-d877-46ca-a5d1-f852aaf9b49f",
   "metadata": {},
   "outputs": [
    {
     "name": "stdout",
     "output_type": "stream",
     "text": [
      "name is rajat age is 27\n"
     ]
    }
   ],
   "source": [
    "print(\"name is {1} age is {0}\".format(age,name))"
   ]
  },
  {
   "cell_type": "code",
   "execution_count": 46,
   "id": "8601a0e2-dc3e-470f-b2a3-8019862affc4",
   "metadata": {},
   "outputs": [
    {
     "name": "stdout",
     "output_type": "stream",
     "text": [
      "name is rajat age is 27\n"
     ]
    }
   ],
   "source": [
    "print(\"name is {n} age is {a}\".format(a=age,n=name))"
   ]
  },
  {
   "cell_type": "code",
   "execution_count": 49,
   "id": "0d219f2c-b7bf-4a2b-b62c-97ffddd735af",
   "metadata": {},
   "outputs": [
    {
     "name": "stdout",
     "output_type": "stream",
     "text": [
      "name is rajat age is 27\n"
     ]
    }
   ],
   "source": [
    "print(\"name is {n} age is {a}\".format(a=age,n=name))"
   ]
  },
  {
   "cell_type": "code",
   "execution_count": 48,
   "id": "c1b0ba5e-b45c-4edc-8743-ff8580d946ab",
   "metadata": {},
   "outputs": [
    {
     "name": "stdout",
     "output_type": "stream",
     "text": [
      "name is rajat age is 27\n"
     ]
    }
   ],
   "source": [
    "print(\"name is {} age is {}\".format(name,age))"
   ]
  },
  {
   "cell_type": "code",
   "execution_count": 50,
   "id": "6bb73093-cc8f-467b-8825-ae37067853ff",
   "metadata": {},
   "outputs": [],
   "source": [
    "x=50"
   ]
  },
  {
   "cell_type": "code",
   "execution_count": 54,
   "id": "cc4acb20-73a5-440b-87e5-a81a1e52e23e",
   "metadata": {},
   "outputs": [
    {
     "name": "stdout",
     "output_type": "stream",
     "text": [
      "we are in second if\n"
     ]
    }
   ],
   "source": [
    "if x>50:\n",
    "    prnt(\"we are in first if\")\n",
    "if x==50:\n",
    "    print(\"we are in second if\")\n",
    "if x<50:\n",
    "    print(\"we are in third if\")"
   ]
  },
  {
   "cell_type": "code",
   "execution_count": 57,
   "id": "bdf9d5a8-bc3f-495d-ae97-22e5f78d5d0e",
   "metadata": {},
   "outputs": [
    {
     "name": "stdout",
     "output_type": "stream",
     "text": [
      "we are out\n"
     ]
    }
   ],
   "source": [
    "if x>50:\n",
    "    print(\"we are in\")\n",
    "    \n",
    "if x<50:\n",
    "    print(\"we are in second if\")\n",
    "else:\n",
    "    print(\"we are out\")\n"
   ]
  },
  {
   "cell_type": "code",
   "execution_count": 59,
   "id": "94bba120-85bb-4da6-ad0a-82558328763c",
   "metadata": {},
   "outputs": [],
   "source": [
    "a=50"
   ]
  },
  {
   "cell_type": "code",
   "execution_count": 64,
   "id": "db0da7cd-ee53-4fa7-a600-5083a4882c89",
   "metadata": {},
   "outputs": [
    {
     "name": "stdout",
     "output_type": "stream",
     "text": [
      "we are in first if\n"
     ]
    }
   ],
   "source": [
    "if a==50:\n",
    "    print(\"we are in first if\")\n",
    "elif a==50:\n",
    "    print(\"we are in second if\")\n",
    "elif a==50:\n",
    "    print(\"we are in third if\")\n",
    "else:\n",
    "    print(\"we are out\")"
   ]
  },
  {
   "cell_type": "code",
   "execution_count": 63,
   "id": "9a3b8faf-c249-402b-ae3c-cb2f71a1729a",
   "metadata": {},
   "outputs": [
    {
     "name": "stdout",
     "output_type": "stream",
     "text": [
      "we are in first if\n",
      "we are in second if\n",
      "we are in third if\n"
     ]
    }
   ],
   "source": [
    "if x==50:\n",
    "    print(\"we are in first if\")\n",
    "if x==50:\n",
    "    print(\"we are in second if\")\n",
    "if x==50:\n",
    "    print(\"we are in third if\")"
   ]
  },
  {
   "cell_type": "markdown",
   "id": "d03f2ac2-dd81-4e06-9d41-703c1b36c9b9",
   "metadata": {},
   "source": [
    "# sujit\n",
    "# second one is complete block of execution\n"
   ]
  },
  {
   "cell_type": "markdown",
   "id": "dd301172-f993-4b97-b57b-dfc76d4f4221",
   "metadata": {},
   "source": [
    "# Accept an integer from the user and check whether it is an even or odd "
   ]
  },
  {
   "cell_type": "code",
   "execution_count": 66,
   "id": "e5fbfc8a-34c5-4140-be2d-1fc30ff89d0c",
   "metadata": {},
   "outputs": [
    {
     "name": "stdin",
     "output_type": "stream",
     "text": [
      "enter number 20\n"
     ]
    },
    {
     "name": "stdout",
     "output_type": "stream",
     "text": [
      "even\n"
     ]
    }
   ],
   "source": [
    "s= int(input('enter number'))\n",
    "if s%2 == 0:\n",
    "    print('even')\n",
    "         \n",
    "else:\n",
    "    print('odd')\n"
   ]
  },
  {
   "cell_type": "code",
   "execution_count": 68,
   "id": "79c7b11b-669b-452c-9aa5-1fb32a66937b",
   "metadata": {},
   "outputs": [
    {
     "name": "stdin",
     "output_type": "stream",
     "text": [
      "please enter any number 343253\n"
     ]
    },
    {
     "name": "stdout",
     "output_type": "stream",
     "text": [
      "number is not even\n"
     ]
    }
   ],
   "source": [
    "a= int(input(\"please enter any number\"))\n",
    "if a%2==0:\n",
    "    print(\"number is even\")\n",
    "else:\n",
    "    print(\"number is not even\")\n"
   ]
  },
  {
   "cell_type": "code",
   "execution_count": 70,
   "id": "2fa72dbb-852d-4e07-9d00-f86644d3215b",
   "metadata": {},
   "outputs": [
    {
     "name": "stdin",
     "output_type": "stream",
     "text": [
      "Enter a number:  364575678\n"
     ]
    },
    {
     "name": "stdout",
     "output_type": "stream",
     "text": [
      "364575678 is Even\n"
     ]
    }
   ],
   "source": [
    "num = int(input(\"Enter a number: \"))\n",
    "if (num % 2) == 0:\n",
    "   print(\"{0} is Even\".format(num))\n",
    "else:\n",
    "   print(\"{0} is Odd\".format(num))\n"
   ]
  },
  {
   "cell_type": "code",
   "execution_count": 72,
   "id": "950cb589-2331-4b69-908c-8718b749e32e",
   "metadata": {},
   "outputs": [
    {
     "name": "stdin",
     "output_type": "stream",
     "text": [
      "Enter the Number 2356890\n"
     ]
    },
    {
     "name": "stdout",
     "output_type": "stream",
     "text": [
      "Number is even\n"
     ]
    }
   ],
   "source": [
    "a=int(input(\"Enter the Number\"))\n",
    "b=a%2\n",
    "if(b==0):\n",
    "    print(\"Number is even\")\n",
    "else:\n",
    "    print(\"Number is odd\")\n"
   ]
  },
  {
   "cell_type": "markdown",
   "id": "fe11dd0a-7557-4405-9ad0-62be6fe13fa9",
   "metadata": {},
   "source": [
    "# WAP to accept a character from the user and check whether it is a capital letter or small letter. Assume user will input only alphabets\n"
   ]
  },
  {
   "cell_type": "code",
   "execution_count": 87,
   "id": "88d64481-4480-44b9-b374-8cf363ce42c2",
   "metadata": {},
   "outputs": [
    {
     "name": "stdin",
     "output_type": "stream",
     "text": [
      "please enter the character n\n"
     ]
    },
    {
     "name": "stdout",
     "output_type": "stream",
     "text": [
      "this character will be a small one\n"
     ]
    }
   ],
   "source": [
    "ch=input(\"please enter the character\")\n",
    "if \"A\"<=ch[0]<=\"Z\":\n",
    "    print(\"this character will be a capital one\")\n",
    "else:\n",
    "    print(\"this character will be a small one\")"
   ]
  },
  {
   "cell_type": "code",
   "execution_count": 90,
   "id": "91afd565-ce62-4be8-b9b6-a1c63ca13b67",
   "metadata": {},
   "outputs": [
    {
     "name": "stdin",
     "output_type": "stream",
     "text": [
      "please enter a char a\n"
     ]
    },
    {
     "name": "stdout",
     "output_type": "stream",
     "text": [
      "out\n"
     ]
    }
   ],
   "source": [
    "#manish#wrong\n",
    "a= input(\"please enter a char\")\n",
    "if a.lower()== True:\n",
    "    print(\"char is lower\")\n",
    "elif a.upper()== True:\n",
    "    print(\"char is upper\")\n",
    "else:\n",
    "    print(\"out\")\n",
    "\n"
   ]
  },
  {
   "cell_type": "code",
   "execution_count": 94,
   "id": "c8d949bf-6aab-448b-9ada-cec668735bda",
   "metadata": {},
   "outputs": [
    {
     "name": "stdin",
     "output_type": "stream",
     "text": [
      "enter char : t\n"
     ]
    },
    {
     "name": "stdout",
     "output_type": "stream",
     "text": [
      "small latter \n"
     ]
    }
   ],
   "source": [
    "#satish\n",
    "char = input(\"enter char :\")\n",
    "\n",
    "ascivalue = ord(char)\n",
    "\n",
    "if (ascivalue >= 97 and ascivalue <= 122) :\n",
    "    print (\"small latter \")\n",
    "else:\n",
    "    print(\"Capital Letter \")\n"
   ]
  },
  {
   "cell_type": "code",
   "execution_count": 98,
   "id": "ed666790-91c6-45c5-b093-104328c75aaa",
   "metadata": {},
   "outputs": [
    {
     "name": "stdin",
     "output_type": "stream",
     "text": [
      "Enter Character:  k\n"
     ]
    },
    {
     "name": "stdout",
     "output_type": "stream",
     "text": [
      "k is Small\n"
     ]
    }
   ],
   "source": [
    "#ajay\n",
    "charVal = input(\"Enter Character: \")\n",
    "if charVal == charVal.lower():\n",
    "    print(\"{} is Small\".format(charVal))\n",
    "else:\n",
    "     print(\"{} is Capital\".format(charVal))\n"
   ]
  },
  {
   "cell_type": "code",
   "execution_count": 100,
   "id": "c4e224eb-8b6d-4b02-9137-21765243ad7b",
   "metadata": {},
   "outputs": [
    {
     "name": "stdin",
     "output_type": "stream",
     "text": [
      "Enter the character  z\n"
     ]
    },
    {
     "name": "stdout",
     "output_type": "stream",
     "text": [
      "z is a lower letter \n"
     ]
    }
   ],
   "source": [
    "#siddhart\n",
    "a=input(\"Enter the character \")\n",
    "if a.isupper()==True :\n",
    "    print (\"{} is a capital letter \".format(a))\n",
    "else :\n",
    "    print (\"{} is a lower letter \".format(a))\n"
   ]
  },
  {
   "cell_type": "code",
   "execution_count": 105,
   "id": "9b8355c5-e6e6-42dc-9033-e91bf942c493",
   "metadata": {},
   "outputs": [
    {
     "name": "stdin",
     "output_type": "stream",
     "text": [
      "Enter char:  AJAY\n"
     ]
    },
    {
     "name": "stdout",
     "output_type": "stream",
     "text": [
      "AJAY  is lowercase\n"
     ]
    }
   ],
   "source": [
    "#raj #wrong\n",
    "import string\n",
    "a=input(\"Enter char: \")\n",
    "if a in string.ascii_uppercase:\n",
    "    print(a,\" is Uppercase\")\n",
    "else:\n",
    "    print(a,\" is lowercase\")\n"
   ]
  },
  {
   "cell_type": "code",
   "execution_count": 107,
   "id": "5d51d8be-4892-407f-bc05-25d4c0d28d2d",
   "metadata": {},
   "outputs": [],
   "source": [
    "a=50"
   ]
  },
  {
   "cell_type": "code",
   "execution_count": 110,
   "id": "c0a16597-ccaf-4c8d-aa0d-205a026e1bd2",
   "metadata": {},
   "outputs": [
    {
     "name": "stdout",
     "output_type": "stream",
     "text": [
      "alright\n"
     ]
    }
   ],
   "source": [
    "if a>50:\n",
    "    print(\"correct\")\n",
    "    print(\"fine\")\n",
    "print(\"alright\")"
   ]
  },
  {
   "cell_type": "markdown",
   "id": "34d90b17-b83f-42a1-b140-b13788a4a0cc",
   "metadata": {},
   "source": [
    "# nested if : if inside if(we can write as many as if )"
   ]
  },
  {
   "cell_type": "code",
   "execution_count": 117,
   "id": "3368f305-854e-4c73-bbed-22d73e8f40c5",
   "metadata": {},
   "outputs": [],
   "source": [
    "a=100\n",
    "b=200\n",
    "c=0"
   ]
  },
  {
   "cell_type": "code",
   "execution_count": 120,
   "id": "5d04ff85-8145-4787-9916-91995ffcb212",
   "metadata": {},
   "outputs": [
    {
     "name": "stdout",
     "output_type": "stream",
     "text": [
      "we are in first if statement\n",
      "we are out from second if\n",
      "we are in elif of third if\n"
     ]
    }
   ],
   "source": [
    "if a<110:\n",
    "    print(\"we are in first if statement\")\n",
    "    if b<199:\n",
    "        print(\"we are in second if statement\")\n",
    "    else:\n",
    "        print(\"we are out from second if\")\n",
    "        if c>0:\n",
    "            print(\"we are in third if\")\n",
    "        elif c==0:\n",
    "            print(\"we are in elif of third if\")\n",
    "        else:\n",
    "            print(\"we are out from third if\")"
   ]
  },
  {
   "cell_type": "code",
   "execution_count": null,
   "id": "fffcce99-80d0-48d7-90c8-041be9d3891d",
   "metadata": {},
   "outputs": [],
   "source": [
    "if:\n",
    "elif:\n",
    "elif:\n",
    "else:"
   ]
  },
  {
   "cell_type": "markdown",
   "id": "c463b5e9-561f-4a7d-a1ed-14f7dd911dba",
   "metadata": {},
   "source": [
    "# WAP to accept 3 integers from the user and without using any logical operator and cascading of relational operators , find out the greatest number amongst them\n"
   ]
  },
  {
   "cell_type": "code",
   "execution_count": null,
   "id": "018e0cf6-feb4-4054-9224-68fe10ed3dd4",
   "metadata": {},
   "outputs": [],
   "source": [
    "X=100\n",
    "y=500\n",
    "z=200"
   ]
  },
  {
   "cell_type": "code",
   "execution_count": 123,
   "id": "e1d354b9-f24a-4704-b0a7-cf6a30a2d155",
   "metadata": {},
   "outputs": [
    {
     "name": "stdin",
     "output_type": "stream",
     "text": [
      "enter first no 293472\n",
      "enter second no 723457\n",
      "enter third no 29537\n"
     ]
    },
    {
     "name": "stdout",
     "output_type": "stream",
     "text": [
      "second is a greatest\n"
     ]
    }
   ],
   "source": [
    "X=int(input(\"enter first no\"))\n",
    "y=int(input(\"enter second no\"))\n",
    "z=int(input(\"enter third no\"))\n",
    "if X>y:\n",
    "    if X>z:\n",
    "        print(\"first will be greatest\")\n",
    "elif y>X:\n",
    "    if y>z:\n",
    "        print(\"second is a greatest\")\n",
    "else:\n",
    "    print(\"third is a greaest\")"
   ]
  },
  {
   "cell_type": "code",
   "execution_count": 126,
   "id": "5a8c7649-5429-439a-875c-1c860f73a0bf",
   "metadata": {},
   "outputs": [],
   "source": [
    "#srikant\n",
    "def maximum(a, b, c):\n",
    "  \n",
    "    if (a >= b) and (a >= c):\n",
    "        largest = a\n",
    "  \n",
    "    elif (b >= a) and (b >= c):\n",
    "        largest = b\n",
    "    else:\n",
    "        largest = c\n",
    "          \n",
    "    return largest\n"
   ]
  },
  {
   "cell_type": "code",
   "execution_count": 129,
   "id": "160fc51e-71b5-45cb-b422-892504f0b21f",
   "metadata": {},
   "outputs": [
    {
     "data": {
      "text/plain": [
       "2002657439"
      ]
     },
     "execution_count": 129,
     "metadata": {},
     "output_type": "execute_result"
    }
   ],
   "source": [
    "maximum(1042534638,2002657439,523954743)"
   ]
  },
  {
   "cell_type": "code",
   "execution_count": 132,
   "id": "be608416-c91f-49d2-9804-475e0321edd0",
   "metadata": {},
   "outputs": [
    {
     "name": "stdin",
     "output_type": "stream",
     "text": [
      "please enter three number 3\n",
      " 10 20 30\n"
     ]
    },
    {
     "name": "stdout",
     "output_type": "stream",
     "text": [
      "30\n"
     ]
    }
   ],
   "source": [
    "#prajesh\n",
    "n=int(input(\"please enter three number\"))\n",
    "x=list(map(int,input().split()))\n",
    "print(max(x))\n"
   ]
  },
  {
   "cell_type": "code",
   "execution_count": 138,
   "id": "d560ae6b-9dbe-47c1-aeac-400fef6facb2",
   "metadata": {},
   "outputs": [
    {
     "name": "stdin",
     "output_type": "stream",
     "text": [
      "enter three number with space 10 20 30\n"
     ]
    },
    {
     "ename": "ValueError",
     "evalue": "invalid literal for int() with base 10: '10 20 30'",
     "output_type": "error",
     "traceback": [
      "\u001b[0;31m---------------------------------------------------------------------------\u001b[0m",
      "\u001b[0;31mValueError\u001b[0m                                Traceback (most recent call last)",
      "Cell \u001b[0;32mIn [138], line 1\u001b[0m\n\u001b[0;32m----> 1\u001b[0m x\u001b[38;5;241m=\u001b[39m\u001b[38;5;28;43mint\u001b[39;49m\u001b[43m(\u001b[49m\u001b[38;5;28;43minput\u001b[39;49m\u001b[43m(\u001b[49m\u001b[38;5;124;43m\"\u001b[39;49m\u001b[38;5;124;43menter three number with space\u001b[39;49m\u001b[38;5;124;43m\"\u001b[39;49m\u001b[43m)\u001b[49m\u001b[43m)\u001b[49m\n\u001b[1;32m      2\u001b[0m a,b,c\u001b[38;5;241m=\u001b[39mx\u001b[38;5;241m.\u001b[39msplit()\n",
      "\u001b[0;31mValueError\u001b[0m: invalid literal for int() with base 10: '10 20 30'"
     ]
    }
   ],
   "source": [
    "x=input(\"enter three number with space\")\n",
    "a,b,c=x.split()"
   ]
  },
  {
   "cell_type": "code",
   "execution_count": 135,
   "id": "5c9d3c0c-4ab1-43b8-ae48-2727fdd8cc59",
   "metadata": {},
   "outputs": [
    {
     "data": {
      "text/plain": [
       "'10'"
      ]
     },
     "execution_count": 135,
     "metadata": {},
     "output_type": "execute_result"
    }
   ],
   "source": [
    "a"
   ]
  },
  {
   "cell_type": "code",
   "execution_count": 136,
   "id": "5f3f4b44-6130-450f-916b-ec6c4a7b27fd",
   "metadata": {},
   "outputs": [
    {
     "data": {
      "text/plain": [
       "'20'"
      ]
     },
     "execution_count": 136,
     "metadata": {},
     "output_type": "execute_result"
    }
   ],
   "source": [
    "b"
   ]
  },
  {
   "cell_type": "code",
   "execution_count": 137,
   "id": "e31aae2d-48ac-4c2e-8f3c-de0d0911cb3b",
   "metadata": {},
   "outputs": [
    {
     "data": {
      "text/plain": [
       "'30'"
      ]
     },
     "execution_count": 137,
     "metadata": {},
     "output_type": "execute_result"
    }
   ],
   "source": [
    "c"
   ]
  },
  {
   "cell_type": "markdown",
   "id": "66bda278-1220-4a5d-97b3-b2f914768409",
   "metadata": {},
   "source": [
    "# while loop"
   ]
  },
  {
   "cell_type": "code",
   "execution_count": 144,
   "id": "c5762f82-fc11-479d-8c92-1e1053b2514b",
   "metadata": {},
   "outputs": [],
   "source": []
  },
  {
   "cell_type": "code",
   "execution_count": 150,
   "id": "f0679b08-82ba-4a94-8329-12fe695cc7a1",
   "metadata": {},
   "outputs": [
    {
     "name": "stdout",
     "output_type": "stream",
     "text": [
      "sunny\n",
      "1\n",
      "sunny\n",
      "2\n",
      "sunny\n",
      "3\n",
      "sunny\n",
      "4\n",
      "sunny\n",
      "5\n",
      "sunny\n",
      "6\n",
      "sunny\n",
      "7\n",
      "sunny\n",
      "8\n",
      "sunny\n",
      "9\n",
      "sunny\n",
      "10\n",
      "loops end\n"
     ]
    }
   ],
   "source": [
    "x=10\n",
    "i=1\n",
    "while i<=x:\n",
    "    print(\"sunny\")\n",
    "    print(i)\n",
    "    i=i+1#increment condition\n",
    "  \n",
    "print(\"loops end\")"
   ]
  },
  {
   "cell_type": "markdown",
   "id": "7ad50271-2927-4172-8401-c262c50e2ef9",
   "metadata": {},
   "source": [
    "# print 50 natural numbers with while loop\n",
    "\n",
    "# 1 to 50"
   ]
  },
  {
   "cell_type": "markdown",
   "id": "a8170dc1-a4e5-49ee-8e3c-e9530caa47f1",
   "metadata": {},
   "source": [
    "# Write a program to accept # a string from the user and display it vertically but don’t display the vowels in it.\n",
    "\n",
    "# do it with while loop"
   ]
  },
  {
   "cell_type": "code",
   "execution_count": 152,
   "id": "4f05e9ef-6a89-49fc-9652-fd421b89db61",
   "metadata": {},
   "outputs": [
    {
     "name": "stdin",
     "output_type": "stream",
     "text": [
      "Enter text: sunny savita\n"
     ]
    },
    {
     "name": "stdout",
     "output_type": "stream",
     "text": [
      "u\n",
      "a\n",
      "i\n",
      "a\n"
     ]
    }
   ],
   "source": [
    "#prem\n",
    "text = input('Enter text:')\n",
    "for char in text:\n",
    "    if char.lower() in 'aeiou':\n",
    "        print(char)\n"
   ]
  },
  {
   "cell_type": "code",
   "execution_count": 153,
   "id": "39da398f-5aba-4ece-8f84-b64f0ddb7326",
   "metadata": {},
   "outputs": [
    {
     "name": "stdin",
     "output_type": "stream",
     "text": [
      "Write something: sunny savita\n"
     ]
    },
    {
     "name": "stdout",
     "output_type": "stream",
     "text": [
      "s\n",
      "n\n",
      "n\n",
      "y\n",
      " \n",
      "s\n",
      "v\n",
      "t\n"
     ]
    }
   ],
   "source": [
    "#dawood\n",
    "str = input(\"Write something:\")\n",
    "\n",
    "i = 0\n",
    "while i<len(str):\n",
    "    if str[i] not in 'aeiou':\n",
    "        print(str[i])\n",
    "    i=i+1\n"
   ]
  },
  {
   "cell_type": "code",
   "execution_count": 154,
   "id": "c6ce9175-1b87-4ce4-af42-6b1fa42a0077",
   "metadata": {},
   "outputs": [
    {
     "name": "stdin",
     "output_type": "stream",
     "text": [
      " sunny savita\n"
     ]
    },
    {
     "ename": "TypeError",
     "evalue": "'str' object is not callable",
     "output_type": "error",
     "traceback": [
      "\u001b[0;31m---------------------------------------------------------------------------\u001b[0m",
      "\u001b[0;31mTypeError\u001b[0m                                 Traceback (most recent call last)",
      "Cell \u001b[0;32mIn [154], line 4\u001b[0m\n\u001b[1;32m      2\u001b[0m x\u001b[38;5;241m=\u001b[39m[\u001b[38;5;124m'\u001b[39m\u001b[38;5;124ma\u001b[39m\u001b[38;5;124m'\u001b[39m,\u001b[38;5;124m'\u001b[39m\u001b[38;5;124me\u001b[39m\u001b[38;5;124m'\u001b[39m,\u001b[38;5;124m'\u001b[39m\u001b[38;5;124mi\u001b[39m\u001b[38;5;124m'\u001b[39m,\u001b[38;5;124m'\u001b[39m\u001b[38;5;124mo\u001b[39m\u001b[38;5;124m'\u001b[39m,\u001b[38;5;124m'\u001b[39m\u001b[38;5;124mu\u001b[39m\u001b[38;5;124m'\u001b[39m]\n\u001b[1;32m      3\u001b[0m q\u001b[38;5;241m=\u001b[39m[]\n\u001b[0;32m----> 4\u001b[0m z\u001b[38;5;241m=\u001b[39m\u001b[38;5;28;43mstr\u001b[39;49m\u001b[43m(\u001b[49m\u001b[38;5;28;43minput\u001b[39;49m\u001b[43m(\u001b[49m\u001b[43m)\u001b[49m\u001b[43m)\u001b[49m\n\u001b[1;32m      5\u001b[0m \u001b[38;5;28;01mfor\u001b[39;00m i \u001b[38;5;129;01min\u001b[39;00m z:\n\u001b[1;32m      6\u001b[0m     \u001b[38;5;28;01mif\u001b[39;00m i \u001b[38;5;129;01mnot\u001b[39;00m \u001b[38;5;129;01min\u001b[39;00m x:\n",
      "\u001b[0;31mTypeError\u001b[0m: 'str' object is not callable"
     ]
    }
   ],
   "source": [
    "#prejesh(this is upcoming concept)\n",
    "x=['a','e','i','o','u']\n",
    "q=[]\n",
    "z=str(input())\n",
    "for i in z:\n",
    "    if i not in x:\n",
    "        q.append(i)\n",
    "for j in q:\n",
    "    print(j)\n"
   ]
  },
  {
   "cell_type": "code",
   "execution_count": 156,
   "id": "dfd73653-566a-43c5-b817-6fc6cbaffe16",
   "metadata": {},
   "outputs": [
    {
     "name": "stdin",
     "output_type": "stream",
     "text": [
      "enter a string: satya thakur\n"
     ]
    },
    {
     "name": "stdout",
     "output_type": "stream",
     "text": [
      "s\n",
      "t\n",
      "y\n",
      " \n",
      "t\n",
      "h\n",
      "k\n",
      "r\n"
     ]
    }
   ],
   "source": [
    "#shirishia\n",
    "n=input(\"enter a string:\")\n",
    "a=0\n",
    "while(a<len(n)):\n",
    "    if n[a]!='a' and n[a]!='e' and n[a]!='i' and n[a]!='0' and n[a]!='u':\n",
    "        print(n[a])\n",
    "    a+=1\n"
   ]
  },
  {
   "cell_type": "code",
   "execution_count": 161,
   "id": "e2fd9691-3cbd-476d-b4e1-b126ab392cd4",
   "metadata": {},
   "outputs": [],
   "source": [
    "while a in \"sunnysavita\":\n",
    "    print(a)"
   ]
  },
  {
   "cell_type": "code",
   "execution_count": null,
   "id": "165b2b1a-34a1-4b70-99dd-cff9ce5d65e5",
   "metadata": {},
   "outputs": [],
   "source": [
    "#devendra\n",
    "a=(input(\"enter the string\"))\n",
    "i=0\n",
    "while a[i] in a:\n",
    "    if a[i] in [\"a\",\"e\",\"i\",\"o\",\"u\"]:\n",
    "        pass\n",
    "    else:\n",
    "        print(a[i])\n",
    "    i=i+1\n"
   ]
  },
  {
   "cell_type": "code",
   "execution_count": 158,
   "id": "b3d83c97-5f7b-4df2-bd8d-265927831446",
   "metadata": {},
   "outputs": [
    {
     "ename": "SyntaxError",
     "evalue": "invalid character '“' (U+201C) (1924820221.py, line 3)",
     "output_type": "error",
     "traceback": [
      "\u001b[0;36m  Cell \u001b[0;32mIn [158], line 3\u001b[0;36m\u001b[0m\n\u001b[0;31m    l=[“a”,”e”,”i”,”o”,”u”,”A”,”E”,”I”,”O”,”U”]\u001b[0m\n\u001b[0m       ^\u001b[0m\n\u001b[0;31mSyntaxError\u001b[0m\u001b[0;31m:\u001b[0m invalid character '“' (U+201C)\n"
     ]
    }
   ],
   "source": [
    "#srikant\n",
    "s=input()\n",
    "l=[\"a\",\"e\",\"i\",\"o\",”u”,”A”,”E”,”I”,”O”,”U”]\n",
    "l1=[]\n",
    "for i in s:\n",
    "if(i not in l):\n",
    "l1.append(i)\n",
    "print(*l1)\n"
   ]
  },
  {
   "cell_type": "code",
   "execution_count": null,
   "id": "3bc7acb2-d955-4854-a7b4-c8fa34702555",
   "metadata": {},
   "outputs": [],
   "source": []
  }
 ],
 "metadata": {
  "kernelspec": {
   "display_name": "Python 3 (ipykernel)",
   "language": "python",
   "name": "python3"
  },
  "language_info": {
   "codemirror_mode": {
    "name": "ipython",
    "version": 3
   },
   "file_extension": ".py",
   "mimetype": "text/x-python",
   "name": "python",
   "nbconvert_exporter": "python",
   "pygments_lexer": "ipython3",
   "version": "3.10.6"
  },
  "toc-autonumbering": true,
  "toc-showmarkdowntxt": true,
  "toc-showtags": false
 },
 "nbformat": 4,
 "nbformat_minor": 5
}
